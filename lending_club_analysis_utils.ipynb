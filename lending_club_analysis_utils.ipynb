{
 "cells": [
  {
   "cell_type": "code",
   "execution_count": null,
   "id": "6d2741c8",
   "metadata": {},
   "outputs": [],
   "source": [
    "import pandas as pd #To work with dataset\n",
    "import numpy as np #Math library\n",
    "import seaborn as sns #Graph library that use matplot in background\n",
    "import matplotlib.pyplot as plt #to plot some parameters in seaborn\n",
    "\n",
    "import warnings\n",
    "warnings.filterwarnings(\"ignore\")\n",
    "\n",
    "import plotly.offline as py \n",
    "py.init_notebook_mode(connected=False) # this code, allow us to work with offline plotly version\n",
    "import plotly.graph_objs as go # it's like \"plt\" of matplot\n",
    "import plotly.tools as tls # It's useful to we get some tools of plotly\n",
    "import warnings # This library will be used to ignore some warnings\n",
    "from collections import Counter # To do counter of some features\n",
    "import plotly.io as pio\n",
    "pio.renderers.default = \"notebook\" #Colab configs for plotly\n",
    "import plotly.express as px\n",
    "from pylab import *\n",
    "from plotly.subplots import make_subplots\n",
    "import scipy"
   ]
  },
  {
   "cell_type": "code",
   "execution_count": 3,
   "id": "30d31594",
   "metadata": {},
   "outputs": [],
   "source": [
    "# Generic function to drop columns in a dataframe\n",
    "def drop_columns(df,cols):\n",
    "  print(f\"Dropping Column(s) {cols}\")  \n",
    "  df.drop(cols,axis=1,inplace=True)"
   ]
  },
  {
   "cell_type": "code",
   "execution_count": 2,
   "id": "28a1502e",
   "metadata": {},
   "outputs": [],
   "source": [
    "#Function to identify single value column and drop \n",
    "def drop_single_valued_columns(df):\n",
    "  for col in df:\n",
    "    uval =df[col].nunique()\n",
    "    if(uval==1):\n",
    "        print(f\"Column {col} with unique value {df[col].unique().take(0)}\")\n",
    "        drop_columns(df,col)"
   ]
  },
  {
   "cell_type": "code",
   "execution_count": null,
   "id": "bf43b358",
   "metadata": {},
   "outputs": [],
   "source": []
  }
 ],
 "metadata": {
  "kernelspec": {
   "display_name": "Python 3 (ipykernel)",
   "language": "python",
   "name": "python3"
  },
  "language_info": {
   "codemirror_mode": {
    "name": "ipython",
    "version": 3
   },
   "file_extension": ".py",
   "mimetype": "text/x-python",
   "name": "python",
   "nbconvert_exporter": "python",
   "pygments_lexer": "ipython3",
   "version": "3.8.2"
  }
 },
 "nbformat": 4,
 "nbformat_minor": 5
}
